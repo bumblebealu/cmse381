{
 "cells": [
  {
   "cell_type": "markdown",
   "id": "4dfd68f5",
   "metadata": {},
   "source": [
    "# Lec 22 - Polynomial Regression and Step Functions\n",
    "## CMSE 381 - Fall 2023\n",
    "## Nov 1, 2023\n",
    "\n"
   ]
  },
  {
   "cell_type": "markdown",
   "id": "c90aa0b0",
   "metadata": {},
   "source": [
    "In this module we are going to implement polynomial regression and step functions as discussed in class."
   ]
  },
  {
   "cell_type": "code",
   "execution_count": null,
   "id": "4ea3a4b4",
   "metadata": {},
   "outputs": [],
   "source": [
    "# Everyone's favorite standard imports\n",
    "import numpy as np\n",
    "import pandas as pd\n",
    "import matplotlib.pyplot as plt\n",
    "%matplotlib inline\n",
    "import time\n",
    "\n",
    "\n",
    "# ML imports we've used previously\n",
    "from sklearn.model_selection import train_test_split\n",
    "from sklearn.metrics import mean_squared_error\n",
    "\n",
    "import statsmodels.api as sm\n"
   ]
  },
  {
   "cell_type": "markdown",
   "id": "81f9a257",
   "metadata": {},
   "source": [
    "# 0. Loading in the data\n",
    "\n",
    "We're going to use the `Wage` data used in the book, so note that many of your plots can be checked by looking at figures in the book."
   ]
  },
  {
   "cell_type": "code",
   "execution_count": null,
   "id": "3ceeb83a",
   "metadata": {},
   "outputs": [],
   "source": [
    "df = pd.read_csv('../../DataSets/Wage.csv', index_col =0 )\n",
    "df.head()"
   ]
  },
  {
   "cell_type": "code",
   "execution_count": null,
   "id": "903ebb82",
   "metadata": {},
   "outputs": [],
   "source": [
    "df.info()"
   ]
  },
  {
   "cell_type": "code",
   "execution_count": null,
   "id": "1bc159e5",
   "metadata": {},
   "outputs": [],
   "source": [
    "df.describe()"
   ]
  },
  {
   "cell_type": "markdown",
   "id": "68b20448",
   "metadata": {},
   "source": [
    "Here's the plot we used multiple times in class to look at a single variable:  `age` vs `wage`"
   ]
  },
  {
   "cell_type": "code",
   "execution_count": null,
   "id": "b90464f2",
   "metadata": {},
   "outputs": [],
   "source": [
    "plt.scatter(df.age,df.wage)\n",
    "plt.xlabel('Age')\n",
    "plt.ylabel('Wage')"
   ]
  },
  {
   "cell_type": "markdown",
   "id": "3a924e5a",
   "metadata": {},
   "source": [
    "&#9989; **<font color=red>Do this:</font>** Modify the plot above so that the people earning above 250 are in a different color and/or symbol set.\n",
    "\n",
    "\n"
   ]
  },
  {
   "cell_type": "code",
   "execution_count": null,
   "id": "58a29309",
   "metadata": {},
   "outputs": [],
   "source": [
    "# Your code here "
   ]
  },
  {
   "cell_type": "markdown",
   "id": "0e0398b5",
   "metadata": {},
   "source": [
    "# 1. Polynomial Regression \n",
    "\n",
    "Our first step is to build a polynomial regression model using the age data to predict wage.  So, as in class, we are in $p=1$ world here where we are going to fit the model\n",
    "$$\n",
    "\\texttt{wage} = \\beta_0 + \\beta_1 \\texttt{age} + \\beta_2 \\texttt{age}^2 + \\cdots + \\beta_p \\texttt{age}^p +\\varepsilon.\n",
    "$$\n",
    "\n",
    "The trick here is to build a matrix $X$ which has a column containing `age`, one with `age^2`, one with `age^3`, etc.  Then we hand this to your favorite regression tool (it doesn't need to know it's getting polynomial matrix inputs, it just sees a matrix of features and does it's thing). \n",
    "\n",
    "So, here's some code to take our $\\texttt{age}$ data column and create a bunch of new columns in our data frame that are simply each the $k$th power of the `age` column"
   ]
  },
  {
   "cell_type": "code",
   "execution_count": null,
   "id": "681f4ddb",
   "metadata": {},
   "outputs": [],
   "source": [
    "# Here's the column I care about\n",
    "df.age"
   ]
  },
  {
   "cell_type": "code",
   "execution_count": null,
   "id": "853a6344",
   "metadata": {},
   "outputs": [],
   "source": [
    "# Here's what the second column should be \n",
    "df.age**2"
   ]
  },
  {
   "cell_type": "markdown",
   "id": "cf8f8d51",
   "metadata": {},
   "source": [
    "&#9989; **<font color=red>Do this:</font>** Use the `PolynomialFeatures` command to generate a data frame called `polydf` with columns $\\texttt{age}$,  $\\texttt{age}^2$,  $\\texttt{age}^3$,  $\\texttt{age}^4$ like we did a few lectures ago. \n",
    "\n",
    "\n"
   ]
  },
  {
   "cell_type": "code",
   "execution_count": null,
   "id": "438db0c8",
   "metadata": {},
   "outputs": [],
   "source": [
    "from sklearn.preprocessing import PolynomialFeatures"
   ]
  },
  {
   "cell_type": "code",
   "execution_count": null,
   "id": "933012f9",
   "metadata": {},
   "outputs": [],
   "source": [
    "# Your code here #"
   ]
  },
  {
   "cell_type": "markdown",
   "id": "920e719e",
   "metadata": {},
   "source": [
    "&#9989; **<font color=red>Do this:</font>** Train a linear regression model on these features. What are the coefficients? \n"
   ]
  },
  {
   "cell_type": "code",
   "execution_count": null,
   "id": "d3c06369",
   "metadata": {},
   "outputs": [],
   "source": [
    "# Your code here #"
   ]
  },
  {
   "cell_type": "markdown",
   "id": "f2df7fb5",
   "metadata": {},
   "source": [
    "&#9989; **<font color=red>Q:</font>** What is the equation for the polynomial that you learned? \n",
    "\n",
    "*Your equation here*"
   ]
  },
  {
   "cell_type": "markdown",
   "id": "226ce85b",
   "metadata": {},
   "source": [
    "&#9989; **<font color=red>Do this:</font>** Draw the polynomial that you learned on top of the age vs wage plot. Note that you can either do this using the polynomial you just figured out, or by using the model you just set up to predict the values. In either case, use the vector of ages `t` below."
   ]
  },
  {
   "cell_type": "code",
   "execution_count": null,
   "id": "1d4970e4",
   "metadata": {},
   "outputs": [],
   "source": [
    "# Your code here #\n",
    "t = np.linspace(10,100,100)\n",
    "\n"
   ]
  },
  {
   "cell_type": "markdown",
   "id": "959a8e3e",
   "metadata": {},
   "source": [
    "\n",
    "![Stop Icon](https://upload.wikimedia.org/wikipedia/commons/thumb/1/1e/Vienna_Convention_road_sign_B2a.svg/180px-Vienna_Convention_road_sign_B2a.svg.png)\n",
    "\n",
    "Great, you got to here! Hang out for a bit, there's more lecture before we go on to the next portion. "
   ]
  },
  {
   "cell_type": "markdown",
   "id": "89fcc6df",
   "metadata": {},
   "source": [
    "# 2. Step functions\n",
    "\n",
    "Now let's try to use step functions to learn a model using `age` to predict `wage`. Like with the polynomial example from last time, all we're going to do is build a data frame or feature matrix that has the step function values in each column, and then pass that matrix to our favorite linear modeling function. \n",
    "\n",
    "First, we want to get a dataframe with the cuts. "
   ]
  },
  {
   "cell_type": "code",
   "execution_count": null,
   "id": "fb65c7d9",
   "metadata": {},
   "outputs": [],
   "source": [
    "df_cut, bins = pd.cut(df.age, 4, retbins = True, right = False)"
   ]
  },
  {
   "cell_type": "markdown",
   "id": "35942395",
   "metadata": {},
   "source": [
    "Note that the `df_cut` is a pandas series with each data point now represented as the interval it's contained in. "
   ]
  },
  {
   "cell_type": "code",
   "execution_count": null,
   "id": "19a612a9",
   "metadata": {},
   "outputs": [],
   "source": [
    "df_cut"
   ]
  },
  {
   "cell_type": "markdown",
   "id": "f7856ab1",
   "metadata": {},
   "source": [
    "Here I'm just printing it out in a column next to the `age` information that was used to generate it."
   ]
  },
  {
   "cell_type": "code",
   "execution_count": null,
   "id": "a5f46eb4",
   "metadata": {},
   "outputs": [],
   "source": [
    "pd.DataFrame({'age': df.age, 'df_cut': df_cut})\n"
   ]
  },
  {
   "cell_type": "markdown",
   "id": "837d318b",
   "metadata": {},
   "source": [
    "The `bins` output gives me the $c_i$'s as follows. \n"
   ]
  },
  {
   "cell_type": "code",
   "execution_count": null,
   "id": "11514f26",
   "metadata": {},
   "outputs": [],
   "source": [
    "print(bins)"
   ]
  },
  {
   "cell_type": "code",
   "execution_count": null,
   "id": "4fde5a8c",
   "metadata": {},
   "outputs": [],
   "source": [
    "# This is how it matches with our notation.\n",
    "print(r'c_1 = ', bins[0])\n",
    "print(r'c_2 = ', bins[1])\n",
    "print(r'c_3 = ', bins[2])\n",
    "print(r'c_4 = ', bins[3])\n",
    "print(r'c_5 = ', bins[4])"
   ]
  },
  {
   "cell_type": "markdown",
   "id": "cd24ddf0",
   "metadata": {},
   "source": [
    "&#9989; **<font color=red>Do this:</font>**\n",
    " For each of the functions $C_0(X)$, $C_1(X)$, $C_2(X)$, $C_3(X)$, $C_4(X)$, $C_5(X)$ (following our notation in class), determine the domains where they have value 1. "
   ]
  },
  {
   "cell_type": "markdown",
   "id": "9d69efb0",
   "metadata": {},
   "source": [
    "*Your answer here*\n",
    "\n",
    "- $C_0(X)$:\n",
    "- $C_1(X)$:\n",
    "- $C_2(X)$: \n",
    "- $C_3(X)$: \n",
    "- $C_4(X)$: \n",
    "- $C_5(X)$: "
   ]
  },
  {
   "cell_type": "markdown",
   "id": "000824fc",
   "metadata": {},
   "source": [
    "Below is my code that generates the data frame storing $C_i(X)$ for all our entries. "
   ]
  },
  {
   "cell_type": "code",
   "execution_count": null,
   "id": "e8e4bbe8",
   "metadata": {
    "scrolled": false
   },
   "outputs": [],
   "source": [
    "df_steps_dummies = pd.get_dummies(df_cut)\n",
    "df_steps_dummies.head()"
   ]
  },
  {
   "cell_type": "markdown",
   "id": "c2cbc4cb",
   "metadata": {},
   "source": [
    "As with our other uses of dummy variables, I don't actually need all of them. I can just include three since I can always figure out the entry of the first based on the rest. It doesn't actually matter which one you drop (as long as you interpret proplerly after the fact) so for the sake of making the notation no worse than it already is I'm going to drop the last one. (*Note I could use `drop_first = True` instead, again just with some slight changes in interpretation later*)"
   ]
  },
  {
   "cell_type": "code",
   "execution_count": null,
   "id": "1b8a9063",
   "metadata": {},
   "outputs": [],
   "source": [
    "df_steps_dummies = df_steps_dummies.iloc[:,:3]\n",
    "df_steps_dummies.head()\n"
   ]
  },
  {
   "cell_type": "markdown",
   "id": "682d586b",
   "metadata": {},
   "source": [
    "&#9989; **<font color=red>Q:</font>** Which of the functions $C_i(X)$ for $i=0,\\cdots, 5$ have columns represented in this matrix? *Note: it's not all of them*\n"
   ]
  },
  {
   "cell_type": "markdown",
   "id": "db728a50",
   "metadata": {},
   "source": [
    "* Your answer here*"
   ]
  },
  {
   "cell_type": "markdown",
   "id": "adcce1b7",
   "metadata": {},
   "source": [
    "&#9989; **<font color=red>Do this:</font>** Pass this matrix to a linear regression model and use it to predict `wage`. What is the equation for your learned model? Be specific in terms of the $C_i$ functions you learned earlier."
   ]
  },
  {
   "cell_type": "code",
   "execution_count": null,
   "id": "687737a7",
   "metadata": {},
   "outputs": [],
   "source": [
    "# Your code here #"
   ]
  },
  {
   "cell_type": "markdown",
   "id": "2a77ae87",
   "metadata": {},
   "source": [
    "&#9989; **<font color=red>Do this:</font>** Using the function $f(X)$ you just learned, what is the function value on each of the following values of $X$?\n",
    "\n",
    "| X  | f(X)| \n",
    "| ---| --- | \n",
    "| 10 |     |\n",
    "| 20 |     |\n",
    "| 30 |     | \n",
    "| 40 |     |\n",
    "| 50 |     | \n",
    "| 60 |     | \n",
    "| 70 |     |\n",
    "| 80 |     |\n",
    "\n"
   ]
  },
  {
   "cell_type": "markdown",
   "id": "f7eaad17",
   "metadata": {},
   "source": [
    "Assuming you stored your linear regression model as `linreg`, the following code will plot the learned function. Check that the answers you got in the table above match with what you're seeing in the graph.  "
   ]
  },
  {
   "cell_type": "code",
   "execution_count": null,
   "id": "38d56358",
   "metadata": {},
   "outputs": [],
   "source": [
    "t = np.linspace(10,80,100)\n",
    "\n",
    "bin_mapping = np.digitize(t, bins)\n",
    "\n",
    "# print(bin_mapping)\n",
    "t_dummies = pd.get_dummies(bin_mapping)\n",
    "t_dummies = t_dummies.drop(columns =[0,4])\n",
    "t_dummies.head()"
   ]
  },
  {
   "cell_type": "code",
   "execution_count": null,
   "id": "a1be4bc6",
   "metadata": {
    "scrolled": false
   },
   "outputs": [],
   "source": [
    "stepPredict = linreg.predict(t_dummies) #<---- If you named your linear regression \n",
    "                                        #      something else, you can fix this to match.\n",
    "            \n",
    "#--------Uncomment below to draw the scatter plot of the data as well-------#\n",
    "plt.scatter(df.age,df.wage,marker = '+')\n",
    "plt.xlabel('Age')\n",
    "plt.ylabel('Wage')\n",
    "\n",
    "plt.plot(t,stepPredict,color='red')"
   ]
  },
  {
   "cell_type": "markdown",
   "id": "66f79113",
   "metadata": {},
   "source": [
    "\n",
    "\n",
    "-----\n",
    "### Congratulations, we're done!\n",
    "Written by Dr. Liz Munch, Michigan State University\n",
    "\n",
    "<a rel=\"license\" href=\"http://creativecommons.org/licenses/by-nc/4.0/\"><img alt=\"Creative Commons License\" style=\"border-width:0\" src=\"https://i.creativecommons.org/l/by-nc/4.0/88x31.png\" /></a><br />This work is licensed under a <a rel=\"license\" href=\"http://creativecommons.org/licenses/by-nc/4.0/\">Creative Commons Attribution-NonCommercial 4.0 International License</a>."
   ]
  },
  {
   "cell_type": "code",
   "execution_count": null,
   "id": "3fb8354f",
   "metadata": {},
   "outputs": [],
   "source": []
  }
 ],
 "metadata": {
  "kernelspec": {
   "display_name": "Python 3 (ipykernel)",
   "language": "python",
   "name": "python3"
  },
  "language_info": {
   "codemirror_mode": {
    "name": "ipython",
    "version": 3
   },
   "file_extension": ".py",
   "mimetype": "text/x-python",
   "name": "python",
   "nbconvert_exporter": "python",
   "pygments_lexer": "ipython3",
   "version": "3.10.9"
  }
 },
 "nbformat": 4,
 "nbformat_minor": 5
}
