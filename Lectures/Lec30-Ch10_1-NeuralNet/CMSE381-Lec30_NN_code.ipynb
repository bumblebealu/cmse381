{
 "cells": [
  {
   "cell_type": "markdown",
   "id": "4dfd68f5",
   "metadata": {},
   "source": [
    "# Lecture 30: Single Layer Neural Nets\n",
    "## CMSE 381 - Fall 2023\n",
    "## Nov 20, 2023\n",
    "\n",
    "\n",
    "<img src=\"https://upload.wikimedia.org/wikipedia/commons/thumb/9/99/Neural_network_example.svg/1200px-Neural_network_example.svg.png\" alt=\"Simple Neural Net\" width=\"200\"/>"
   ]
  },
  {
   "cell_type": "code",
   "execution_count": null,
   "id": "4ea3a4b4",
   "metadata": {},
   "outputs": [],
   "source": [
    "# Everyone's favorite standard imports\n",
    "import numpy as np\n",
    "import pandas as pd\n",
    "import matplotlib as mpl\n",
    "import matplotlib.pyplot as plt\n",
    "%matplotlib inline\n",
    "import time"
   ]
  },
  {
   "cell_type": "markdown",
   "id": "e449c5e5",
   "metadata": {},
   "source": [
    "# Building your own basic neural network\n",
    "\n",
    "We're going to try to play with building some simple portions of the neural nets described in class.  \n",
    "\n",
    "First up, let's try to build the following example we played with in class:\n",
    "<img src=\"https://imgur.com/kO6zuGG.jpg\" alt=\"Example Neural Net from Class\" width=\"400\"/>\n",
    "\n",
    "&#9989; **<font color=red>Do this:</font>** Add code where noted below to create an automatic computation of the things we did in class. **Note: You can replace this code with the matrix version if you prefer, but this structure is built to work with the individual equations version.**"
   ]
  },
  {
   "cell_type": "code",
   "execution_count": null,
   "id": "13ce3205",
   "metadata": {},
   "outputs": [],
   "source": [
    "def MyFirstNN(X1,X2,w, beta):\n",
    "    \n",
    "    A = []    \n",
    "    for i in range(3): \n",
    "        Ai = np.NaN # <----- your code here\n",
    "        A.append(Ai)\n",
    "#     print(A)\n",
    "    \n",
    "    A = np.array(A)\n",
    "    \n",
    "    Y = np.NaN # <----- your code here\n",
    "\n",
    "    return Y\n",
    "\n",
    " \n",
    "    \n",
    "    \n",
    "w = np.array([(1,2,1),(-1,0,1),(3,-1,-1)])\n",
    "print(w)\n",
    "beta = np.array((-1,2,1,-2))\n",
    "print('(1,0) should give  1  => ', MyFirstNN(1,0,w,beta))\n",
    "print('(0,1) should give -1  => ', MyFirstNN(0,1,w,beta))"
   ]
  },
  {
   "cell_type": "markdown",
   "id": "bf0d5be2",
   "metadata": {},
   "source": [
    "&#9989; **<font color=red>Do this:</font>**  Play with the following code by changing around your $w$ and $\\beta$ matrix values. \n",
    "- What sorts of changes occur in the resulting function value outputs?\n",
    "- We're using the ReLU as our activation function above, which replaces the entry with the positive value of the entry.  Why am I able to get negative results out of the neural net?\n"
   ]
  },
  {
   "cell_type": "code",
   "execution_count": null,
   "id": "29fe3377",
   "metadata": {},
   "outputs": [],
   "source": [
    "w = np.array([(1,2,1),(-1,0,1),(3,-1,-1)]) #<----- Mess with these\n",
    "beta = np.array((-1,2,1,-2))               #<----- These, too\n",
    "\n",
    "#--- below here plots the output values for many combinations of \n",
    "#--- X1,X2\n",
    "\n",
    "a = np.linspace(-10,10,30)\n",
    "b = np.linspace(-10,10,30)\n",
    "x,y = np.meshgrid(a,b)\n",
    "M = np.zeros((len(a),len(b)))\n",
    "for i in range(len(a)):\n",
    "    for j in range(len(a)):\n",
    "        M[i,j] = MyFirstNN(a[i],b[j],w, beta)\n",
    "\n",
    "\n",
    "# --- Make plots----\n",
    "fig,(ax1,ax2) = plt.subplots(1,2, sharey = True)\n",
    "\n",
    "# Heatmap version \n",
    "ax1.set(aspect='equal')\n",
    "colormesh = ax1.pcolormesh(x,y,M)\n",
    "ax1.set_xlabel('X1')\n",
    "ax1.set_ylabel('X2')\n",
    "fig.colorbar(colormesh,ax = ax1, shrink = 0.5)\n",
    "\n",
    "# Contour plot version \n",
    "ax2.set(aspect='equal')\n",
    "contour = ax2.contour(x,y,M)\n",
    "ax2.set_xlabel('X1')\n",
    "ax2.set_ylabel('X2')\n",
    "fig.colorbar(contour,ax = ax2, shrink = 0.5)\n",
    "\n"
   ]
  },
  {
   "cell_type": "markdown",
   "id": "d098ee17",
   "metadata": {},
   "source": [
    "&#9989; **<font color=red>Do this:</font>** Write a modified version of your `MyFirstNN` function that uses a sigmoid function instead of ReLu. Draw a 2D heatmap and/or contour plot like above. What sort of patterns can you get in the resulting output function? \n"
   ]
  },
  {
   "cell_type": "code",
   "execution_count": null,
   "id": "caa0b691",
   "metadata": {},
   "outputs": [],
   "source": [
    "# Your code here #"
   ]
  },
  {
   "cell_type": "markdown",
   "id": "ff49f84d",
   "metadata": {},
   "source": [
    "The functions you have created are what the neural net would predict given a new input data point. \n",
    "\n",
    "&#9989; **<font color=red>Q:</font>** For the neural net using  $w$ and $\\beta$ from class, and using the sigmoid activation function, what output prediction would you get for an input $(-10,10)$? "
   ]
  },
  {
   "cell_type": "markdown",
   "id": "b8e358b6",
   "metadata": {},
   "source": [
    "So of course, if we were actually building this beast, our bigger job would be to find good choices of $w$ and $\\beta$ based on our available training data. Let's pretend for the moment I have the following prediction data. "
   ]
  },
  {
   "cell_type": "code",
   "execution_count": null,
   "id": "74ab8f37",
   "metadata": {},
   "outputs": [],
   "source": [
    "data = np.loadtxt('../../DataSets/DL-toy-data.csv')\n",
    "X = data[:,:2]\n",
    "y = data[:,2]\n",
    "\n",
    "plt.scatter(X[:,0],X[:,1], c= y)\n",
    "plt.colorbar()"
   ]
  },
  {
   "cell_type": "markdown",
   "id": "d7f3d7d4",
   "metadata": {},
   "source": [
    "&#9989; **<font color=red>Do this:</font>** Given this particular data set, what is the mean squared error for the neural net using  $w$ and $\\beta$ from class, and using the sigmoid activation function?"
   ]
  },
  {
   "cell_type": "code",
   "execution_count": null,
   "id": "f5fd00ef",
   "metadata": {},
   "outputs": [],
   "source": [
    "# Your code here"
   ]
  },
  {
   "cell_type": "markdown",
   "id": "6b73677d",
   "metadata": {},
   "source": [
    "We're not going to train the model* ourselves, so let's switch now to the following online tool for training model. \n",
    "\n",
    "Open this website in another window: [https://playground.tensorflow.org](https://playground.tensorflow.org/#activation=tanh&batchSize=10&dataset=xor&regDataset=reg-plane&learningRate=0.03&regularizationRate=0&noise=0&networkShape=4&seed=0.85627&showTestData=false&discretize=false&percTrainData=50&x=true&y=true&xTimesY=false&xSquared=false&ySquared=false&cosX=false&sinX=false&cosY=false&sinY=false&collectStats=false&problem=classification&initZero=false&hideText=false)\n",
    "\n",
    "*Translation: chosing better weights $w$ and $\\beta$ to improve this score.\n",
    "\n",
    "\n",
    "&#9989; **<font color=red>Do this:</font>** \n",
    "1. Start by working with a neural network with a single hidden layer on the data set labeled \"Exclusive or\". The initial setup has random weights chosen so the test loss on the right isn't very good. Hit the play button to watch the model find better and better weights to improve the prediction. \n",
    "2. Hover over the neurons on your trained model. What does the colormap shown on the right mean?\n",
    "2. What does the thickness/color of the edges between features/neurons mean? How does it align with our notation from class?\n",
    "2. What happens when you train the model using more or less neurons (hidden units) in the layer? What happens if you increase \n",
    "3. What happens when you train the same model on the spiral data set? \n",
    "4. If your settings are like mine, the sprial data set results are not good. Play with parameters until you can get test loss below 10\\% on the spiral data set."
   ]
  },
  {
   "cell_type": "markdown",
   "id": "66f79113",
   "metadata": {},
   "source": [
    "\n",
    "\n",
    "-----\n",
    "### Congratulations, we're done!\n",
    "Written by Dr. Liz Munch, Michigan State University\n",
    "\n",
    "<a rel=\"license\" href=\"http://creativecommons.org/licenses/by-nc/4.0/\"><img alt=\"Creative Commons License\" style=\"border-width:0\" src=\"https://i.creativecommons.org/l/by-nc/4.0/88x31.png\" /></a><br />This work is licensed under a <a rel=\"license\" href=\"http://creativecommons.org/licenses/by-nc/4.0/\">Creative Commons Attribution-NonCommercial 4.0 International License</a>."
   ]
  },
  {
   "cell_type": "code",
   "execution_count": null,
   "id": "3fb8354f",
   "metadata": {},
   "outputs": [],
   "source": []
  }
 ],
 "metadata": {
  "kernelspec": {
   "display_name": "Python 3 (ipykernel)",
   "language": "python",
   "name": "python3"
  },
  "language_info": {
   "codemirror_mode": {
    "name": "ipython",
    "version": 3
   },
   "file_extension": ".py",
   "mimetype": "text/x-python",
   "name": "python",
   "nbconvert_exporter": "python",
   "pygments_lexer": "ipython3",
   "version": "3.10.9"
  }
 },
 "nbformat": 4,
 "nbformat_minor": 5
}
